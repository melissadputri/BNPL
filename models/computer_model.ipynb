{
 "cells": [
  {
   "cell_type": "markdown",
   "metadata": {},
   "source": [
    "# Modelling by Merchant Segment\n",
    "## Forecasting Average Order Value in Computer Segment"
   ]
  },
  {
   "cell_type": "code",
   "execution_count": 1,
   "metadata": {},
   "outputs": [
    {
     "name": "stderr",
     "output_type": "stream",
     "text": [
      "Setting default log level to \"WARN\".\n",
      "To adjust logging level use sc.setLogLevel(newLevel). For SparkR, use setLogLevel(newLevel).\n",
      "24/10/01 14:53:37 WARN NativeCodeLoader: Unable to load native-hadoop library for your platform... using builtin-java classes where applicable\n"
     ]
    }
   ],
   "source": [
    "# Initialise a spark session\n",
    "import pandas as pd\n",
    "from collections import Counter\n",
    "import os\n",
    "from pyspark.sql import SparkSession\n",
    "from pyspark.sql.window import Window\n",
    "from pyspark.sql import functions as F\n",
    "from pyspark.ml.regression import RandomForestRegressor\n",
    "from pyspark.ml.evaluation import RegressionEvaluator\n",
    "from pyspark.ml.feature import VectorAssembler, StandardScaler\n",
    "from pyspark.ml import Pipeline\n",
    "import matplotlib.pyplot as plt\n",
    "\n",
    "\n",
    "spark = (\n",
    "    SparkSession.builder.appName(\"Computer Model\")\n",
    "    .config(\"spark.sql.repl.eagerEval.enabled\", True)\n",
    "    .config(\"spark.sql.parquet.cacheMetadata\", \"true\")\n",
    "    .config(\"spark.sql.session.timeZone\", \"Etc/UTC\")\n",
    "    .config(\"spark.driver.memory\", \"16g\")  # Increase driver memory\n",
    "    .config(\"spark.executor.memory\", \"16g\")  # Increase executor memory\n",
    "    .config(\"spark.executor.instances\", \"4\")  # Increase the number of executor instances\n",
    "    .config(\"spark.driver.maxResultSize\", \"4g\")\n",
    "    .config(\"spark.sql.shuffle.partitions\", \"100\") \\\n",
    "    .getOrCreate()\n",
    ")"
   ]
  },
  {
   "cell_type": "code",
   "execution_count": 2,
   "metadata": {},
   "outputs": [],
   "source": [
    "# Read transaction file excluding those marked as fraud\n",
    "transactions = spark.read.parquet('../data/curated/flagged_fraud')\n",
    "transactions = transactions.filter(F.col(\"is_fraud\") != True) # Exclude Fraud Transactions"
   ]
  },
  {
   "cell_type": "markdown",
   "metadata": {},
   "source": [
    "## Filter Transactions by Segment"
   ]
  },
  {
   "cell_type": "code",
   "execution_count": 3,
   "metadata": {},
   "outputs": [
    {
     "name": "stdout",
     "output_type": "stream",
     "text": [
      "+------------+---------+-------+------------------+------------------------------------+-----------+--------------------------+-----------------+------------------------------+--------------+-----------------+---------------+-------------------------+--------------------------+--------------+----------------+-------------+--------------------------------------+-----------------+---------------------------+---------------------------+--------+------------+-----------------+------------------------------------------------------+\n",
      "|merchant_abn|year_week|user_id|dollar_value      |order_id                            |consumer_id|fraud_probability_consumer|name_consumer    |address_consumer              |state_consumer|postcode_consumer|gender_consumer|name_merchant            |fraud_probability_merchant|order_datetime|order_month_year|SA4_CODE_2011|SA4_NAME_2011                         |unemployment_rate|consumer_weekly_transaction|merchant_weekly_transaction|is_fraud|revenue_band|take_rate        |merchant_category                                     |\n",
      "+------------+---------+-------+------------------+------------------------------------+-----------+--------------------------+-----------------+------------------------------+--------------+-----------------+---------------+-------------------------+--------------------------+--------------+----------------+-------------+--------------------------------------+-----------------+---------------------------+---------------------------+--------+------------+-----------------+------------------------------------------------------+\n",
      "|10342410215 |2022-2   |20221  |72.0620858701787  |69fda07b-2659-4e02-af6b-fa04d66e7d20|81902      |40.53492578161656         |Courtney Taylor  |4106 Matthew Lakes Apt. 423   |SA            |5651             |Female         |Facilisis Facilisis Corp.|54.066004739356764        |2022-01-16    |Jan-22          |406          |South Australia - Outback             |29.0             |588                        |22                         |false   |a           |6.340000152587891|computers, computer peripheral equipment, and software|\n",
      "|10342410215 |2022-2   |15537  |480.30579508898194|4fb65fdf-98a3-412d-ad12-be305079687d|571158     |8.982059808321436         |Kiara Schmidt    |025 Hill Hollow               |SA            |5321             |Female         |Facilisis Facilisis Corp.|52.12713044855324         |2022-01-13    |Jan-22          |407          |South Australia - South East          |73.3             |605                        |22                         |false   |a           |6.340000152587891|computers, computer peripheral equipment, and software|\n",
      "|10342410215 |2022-2   |3945   |200.66087724687495|b36555e0-434d-4030-af0d-3866ef34db95|1139338    |9.315038045689908         |David Smith      |1796 Fox Harbor               |QLD           |4799             |Male           |Facilisis Facilisis Corp.|57.723503564188775        |2022-01-10    |Jan-22          |312          |Mackay                                |43.0             |593                        |22                         |false   |a           |6.340000152587891|computers, computer peripheral equipment, and software|\n",
      "|10342410215 |2022-2   |1208   |314.9348009117451 |38622c27-1ed6-4cad-9879-638a9c812173|837162     |9.219007353020471         |Angela Pittman II|13342 Brandon Road            |QLD           |4306             |Undisclosed    |Facilisis Facilisis Corp.|54.75922291235547         |2022-01-10    |Jan-22          |319          |Wide Bay                              |129.5            |2316                       |22                         |false   |a           |6.340000152587891|computers, computer peripheral equipment, and software|\n",
      "|10342410215 |2022-2   |1208   |314.9348009117451 |38622c27-1ed6-4cad-9879-638a9c812173|837162     |9.219007353020471         |Angela Pittman II|13342 Brandon Road            |QLD           |4306             |Undisclosed    |Facilisis Facilisis Corp.|54.75922291235547         |2022-01-10    |Jan-22          |313          |Moreton Bay - North                   |100.8            |2316                       |22                         |false   |a           |6.340000152587891|computers, computer peripheral equipment, and software|\n",
      "|10342410215 |2022-2   |1208   |314.9348009117451 |38622c27-1ed6-4cad-9879-638a9c812173|837162     |9.219007353020471         |Angela Pittman II|13342 Brandon Road            |QLD           |4306             |Undisclosed    |Facilisis Facilisis Corp.|54.75922291235547         |2022-01-10    |Jan-22          |310          |Ipswich                               |101.9            |2316                       |22                         |false   |a           |6.340000152587891|computers, computer peripheral equipment, and software|\n",
      "|10342410215 |2022-2   |1208   |314.9348009117451 |38622c27-1ed6-4cad-9879-638a9c812173|837162     |9.219007353020471         |Angela Pittman II|13342 Brandon Road            |QLD           |4306             |Undisclosed    |Facilisis Facilisis Corp.|54.75922291235547         |2022-01-10    |Jan-22          |307          |Darling Downs - Maranoa               |37.2             |2316                       |22                         |false   |a           |6.340000152587891|computers, computer peripheral equipment, and software|\n",
      "|10342410215 |2022-2   |19750  |393.8114590308131 |8985bb09-9200-473d-9208-ce76fe532233|1253932    |21.401641164284847        |Casey Medina     |51908 Rhonda Village Suite 393|NSW           |2785             |Male           |Facilisis Facilisis Corp.|53.91738923652646         |2022-01-10    |Jan-22          |124          |Sydney - Outer West and Blue Mountains|86.7             |1176                       |22                         |false   |a           |6.340000152587891|computers, computer peripheral equipment, and software|\n",
      "|10342410215 |2022-2   |19750  |393.8114590308131 |8985bb09-9200-473d-9208-ce76fe532233|1253932    |21.401641164284847        |Casey Medina     |51908 Rhonda Village Suite 393|NSW           |2785             |Male           |Facilisis Facilisis Corp.|53.91738923652646         |2022-01-10    |Jan-22          |103          |Central West                          |58.2             |1176                       |22                         |false   |a           |6.340000152587891|computers, computer peripheral equipment, and software|\n",
      "|10342410215 |2022-2   |22381  |155.09353282041792|36c09f3a-9ba8-476b-842e-224e19f6f1f6|165496     |8.858564726532427         |Michael Hayes    |91447 Maria Row Apt. 771      |NSW           |2088             |Male           |Facilisis Facilisis Corp.|55.43133908791664         |2022-01-11    |Jan-22          |121          |Sydney - North Sydney and Hornsby     |114.2            |594                        |22                         |false   |a           |6.340000152587891|computers, computer peripheral equipment, and software|\n",
      "+------------+---------+-------+------------------+------------------------------------+-----------+--------------------------+-----------------+------------------------------+--------------+-----------------+---------------+-------------------------+--------------------------+--------------+----------------+-------------+--------------------------------------+-----------------+---------------------------+---------------------------+--------+------------+-----------------+------------------------------------------------------+\n",
      "only showing top 10 rows\n",
      "\n"
     ]
    }
   ],
   "source": [
    "from pyspark.sql.functions import lower, col\n",
    "\n",
    "computer_transactions = transactions.filter(lower(col(\"merchant_category\")).contains(\"computers\"))\n",
    "\n",
    "computer_transactions.show(truncate=False, n=10)\n"
   ]
  },
  {
   "cell_type": "markdown",
   "metadata": {},
   "source": [
    "## Feature Engineering: Average Order Values (Yearly)\n",
    "* Computers often have large purchasing values\n",
    "* Higher average order values could indicate a focus in more expensive products\n",
    "* Signaling a higher profit margin\n",
    "* Averages are calculated yearly to account for annual growth"
   ]
  },
  {
   "cell_type": "code",
   "execution_count": 4,
   "metadata": {},
   "outputs": [],
   "source": [
    "computer_transactions = computer_transactions.withColumn('order_year', F.year(F.col('order_datetime')))\n",
    "\n",
    "computer_transactions_df = computer_transactions.groupBy('merchant_abn', 'order_year').agg(\n",
    "    F.avg('dollar_value').alias('annual_aov'),\n",
    "    F.count('order_id').alias('total_transactions'),\n",
    "    F.avg(\"fraud_probability_merchant\").alias(\"avg_fraud_probability_merchant\"),  \n",
    "    F.avg(\"fraud_probability_consumer\").alias(\"avg_fraud_probability_consumer\"), \n",
    "    F.first(\"name_merchant\").alias(\"merchant_name\"),\n",
    "    F.first(\"merchant_category\").alias(\"merchant_category\")\n",
    ")\n",
    "\n",
    "window_spec = Window.partitionBy('merchant_abn').orderBy('order_year')\n",
    "\n",
    "# Add the lag feature for AOV\n",
    "annual_aov_df = computer_transactions_df.withColumn(\n",
    "    'previous_aov', F.lag('annual_aov', 1).over(window_spec)\n",
    ")\n",
    "\n",
    "# Calculate the AOV growth rate\n",
    "annual_aov_df = annual_aov_df.withColumn(\n",
    "    'aov_growth', \n",
    "    F.when(F.col('previous_aov') > 0, \n",
    "           (F.col('annual_aov') - F.col('previous_aov')) / F.col('previous_aov')) \n",
    "    .otherwise(F.lit(0))  # 0 if there's no previous AOV\n",
    ")\n",
    "\n",
    "annual_aov_df = annual_aov_df.fillna({'previous_aov': 0})"
   ]
  },
  {
   "cell_type": "code",
   "execution_count": 5,
   "metadata": {},
   "outputs": [
    {
     "name": "stderr",
     "output_type": "stream",
     "text": [
      "[Stage 2:====================================================>     (9 + 1) / 10]\r"
     ]
    },
    {
     "name": "stdout",
     "output_type": "stream",
     "text": [
      "+------------+----------+------------------+------------------+------------------------------+------------------------------+-------------------------+------------------------------------------------------+------------------+-------------------+\n",
      "|merchant_abn|order_year|annual_aov        |total_transactions|avg_fraud_probability_merchant|avg_fraud_probability_consumer|merchant_name            |merchant_category                                     |previous_aov      |aov_growth         |\n",
      "+------------+----------+------------------+------------------+------------------------------+------------------------------+-------------------------+------------------------------------------------------+------------------+-------------------+\n",
      "|10255988167 |2021      |333.32024900941076|468               |55.25293598767647             |12.611948854975545            |Aliquam Enim Incorporated|computers, computer peripheral equipment, and software|0.0               |0.0                |\n",
      "|10255988167 |2022      |352.27288389049465|103               |55.5538560835411              |12.573395812601314            |Aliquam Enim Incorporated|computers, computer peripheral equipment, and software|333.32024900941076|0.05686013657258728|\n",
      "|10342410215 |2021      |341.4296338854115 |486               |55.51817018457669             |13.287252259913362            |Facilisis Facilisis Corp.|computers, computer peripheral equipment, and software|0.0               |0.0                |\n",
      "|10342410215 |2022      |356.89785926356956|141               |55.175564551484726            |14.10994123927824             |Facilisis Facilisis Corp.|computers, computer peripheral equipment, and software|341.4296338854115 |0.04530428481597304|\n",
      "|10385250025 |2021      |434.94438470451973|341               |55.00697393516301             |13.113260338866697            |Id Ltd                   |computers, computer peripheral equipment, and software|0.0               |0.0                |\n",
      "+------------+----------+------------------+------------------+------------------------------+------------------------------+-------------------------+------------------------------------------------------+------------------+-------------------+\n",
      "only showing top 5 rows\n",
      "\n"
     ]
    },
    {
     "name": "stderr",
     "output_type": "stream",
     "text": [
      "                                                                                \r"
     ]
    }
   ],
   "source": [
    "annual_aov_df.show(truncate=False, n=5)"
   ]
  },
  {
   "cell_type": "markdown",
   "metadata": {},
   "source": [
    "## Random Forest Regression to Forecast Future Annual AOV"
   ]
  },
  {
   "cell_type": "code",
   "execution_count": 6,
   "metadata": {},
   "outputs": [],
   "source": [
    "feature_columns = ['total_transactions', 'avg_fraud_probability_merchant', \n",
    "                   'avg_fraud_probability_consumer', 'previous_aov', 'aov_growth']\n",
    "\n",
    "assembler = VectorAssembler(inputCols=feature_columns, outputCol=\"features\")\n",
    "\n",
    "scaler = StandardScaler(inputCol=\"features\", outputCol=\"scaled_features\")\n",
    "\n",
    "rf = RandomForestRegressor(featuresCol=\"scaled_features\", labelCol=\"annual_aov\")\n",
    "\n",
    "pipeline = Pipeline(stages=[assembler, scaler, rf])"
   ]
  },
  {
   "cell_type": "code",
   "execution_count": 7,
   "metadata": {},
   "outputs": [
    {
     "name": "stderr",
     "output_type": "stream",
     "text": [
      "24/10/01 14:53:48 WARN GarbageCollectionMetrics: To enable non-built-in garbage collector(s) List(G1 Concurrent GC), users should configure it(them) to spark.eventLog.gcMetrics.youngGenerationGarbageCollectors or spark.eventLog.gcMetrics.oldGenerationGarbageCollectors\n",
      "                                                                                \r"
     ]
    },
    {
     "name": "stdout",
     "output_type": "stream",
     "text": [
      "Root Mean Squared Error (RMSE): 91.00437557015114\n",
      "R-squared (R²): 0.6032942678463837\n"
     ]
    },
    {
     "name": "stderr",
     "output_type": "stream",
     "text": [
      "[Stage 63:============================>                            (5 + 5) / 10]\r"
     ]
    },
    {
     "name": "stdout",
     "output_type": "stream",
     "text": [
      "+------------+----------+------------------+------------------+\n",
      "|merchant_abn|order_year|        annual_aov|        prediction|\n",
      "+------------+----------+------------------+------------------+\n",
      "| 10342410215|      2021| 341.4296338854115|315.16829548869634|\n",
      "| 10648956813|      2021| 64.20377809545332|252.16951511742383|\n",
      "| 10854978569|      2021| 327.3592671417361| 371.7027472993016|\n",
      "| 12171241826|      2022| 209.3676047974551|238.96944291474043|\n",
      "| 13902377680|      2022|224.90111290011623| 272.7294789453011|\n",
      "+------------+----------+------------------+------------------+\n",
      "only showing top 5 rows\n",
      "\n"
     ]
    },
    {
     "name": "stderr",
     "output_type": "stream",
     "text": [
      "                                                                                \r"
     ]
    }
   ],
   "source": [
    "train_data, test_data = annual_aov_df.randomSplit([0.8,0.2], seed=42)\n",
    "\n",
    "rf_model = pipeline.fit(train_data)\n",
    "\n",
    "predictions = rf_model.transform(test_data)\n",
    "\n",
    "evaluator = RegressionEvaluator(labelCol=\"annual_aov\", predictionCol=\"prediction\", metricName=\"rmse\")\n",
    "rmse = evaluator.evaluate(predictions)\n",
    "r2 = evaluator.evaluate(predictions, {evaluator.metricName: \"r2\"})\n",
    "\n",
    "print(f\"Root Mean Squared Error (RMSE): {rmse}\")\n",
    "print(f\"R-squared (R²): {r2}\")\n",
    "\n",
    "predictions.select(\"merchant_abn\", \"order_year\", \"annual_aov\", \"prediction\").show(5)"
   ]
  },
  {
   "cell_type": "code",
   "execution_count": 8,
   "metadata": {},
   "outputs": [
    {
     "name": "stderr",
     "output_type": "stream",
     "text": [
      "[Stage 69:===================================================>     (9 + 1) / 10]\r"
     ]
    },
    {
     "name": "stdout",
     "output_type": "stream",
     "text": [
      "+------------+----------+------------------+------------------+------------------------------+------------------------------+-------------------------+------------------------------------------------------+------------------+-------------------+\n",
      "|merchant_abn|order_year|annual_aov        |total_transactions|avg_fraud_probability_merchant|avg_fraud_probability_consumer|merchant_name            |merchant_category                                     |previous_aov      |aov_growth         |\n",
      "+------------+----------+------------------+------------------+------------------------------+------------------------------+-------------------------+------------------------------------------------------+------------------+-------------------+\n",
      "|10255988167 |2021      |333.32024900941076|468               |55.25293598767647             |12.611948854975545            |Aliquam Enim Incorporated|computers, computer peripheral equipment, and software|0.0               |0.0                |\n",
      "|10255988167 |2022      |352.27288389049465|103               |55.5538560835411              |12.573395812601314            |Aliquam Enim Incorporated|computers, computer peripheral equipment, and software|333.32024900941076|0.05686013657258728|\n",
      "|10342410215 |2021      |341.4296338854115 |486               |55.51817018457669             |13.287252259913362            |Facilisis Facilisis Corp.|computers, computer peripheral equipment, and software|0.0               |0.0                |\n",
      "|10342410215 |2022      |356.89785926356956|141               |55.175564551484726            |14.10994123927824             |Facilisis Facilisis Corp.|computers, computer peripheral equipment, and software|341.4296338854115 |0.04530428481597304|\n",
      "|10385250025 |2021      |434.94438470451973|341               |55.00697393516301             |13.113260338866697            |Id Ltd                   |computers, computer peripheral equipment, and software|0.0               |0.0                |\n",
      "+------------+----------+------------------+------------------+------------------------------+------------------------------+-------------------------+------------------------------------------------------+------------------+-------------------+\n",
      "only showing top 5 rows\n",
      "\n"
     ]
    },
    {
     "name": "stderr",
     "output_type": "stream",
     "text": [
      "                                                                                \r"
     ]
    }
   ],
   "source": [
    "annual_aov_df.show(truncate=False, n=5)"
   ]
  },
  {
   "cell_type": "markdown",
   "metadata": {},
   "source": [
    "## Predicting Future Annual AOV"
   ]
  },
  {
   "cell_type": "code",
   "execution_count": 9,
   "metadata": {},
   "outputs": [
    {
     "name": "stderr",
     "output_type": "stream",
     "text": [
      "                                                                                \r"
     ]
    },
    {
     "name": "stdout",
     "output_type": "stream",
     "text": [
      "+------------+----------+------------------+\n",
      "|merchant_abn|order_year|        prediction|\n",
      "+------------+----------+------------------+\n",
      "| 87632767975|      2023|342.15305985370526|\n",
      "| 10648956813|      2023|176.41467854321272|\n",
      "| 18112900644|      2023| 80.03338717597978|\n",
      "| 15514494276|      2023|278.58837536393537|\n",
      "| 23617533061|      2023|337.77718838968724|\n",
      "| 46674437504|      2023| 264.4302301558982|\n",
      "| 96435855846|      2023|470.39949454254065|\n",
      "| 32069730393|      2023|225.16104786662316|\n",
      "| 69135584329|      2023| 326.2484884409074|\n",
      "| 84937597269|      2023| 467.0604155736347|\n",
      "+------------+----------+------------------+\n",
      "only showing top 10 rows\n",
      "\n"
     ]
    }
   ],
   "source": [
    "future_aov_df = annual_aov_df.groupBy('merchant_abn').agg(F.max('order_year').alias('latest_year'))\n",
    "\n",
    "num_future_years = 1  # Number of future years to project\n",
    "future_years = [(year,) for year in range(2023, 2023 + num_future_years)]  # Specify the future years you want to predict\n",
    "future_years_df = spark.createDataFrame(future_years, ['order_year'])\n",
    "\n",
    "future_data = future_aov_df.crossJoin(future_years_df)\n",
    "\n",
    "latest_data = annual_aov_df.groupBy('merchant_abn').agg(\n",
    "    F.max('order_year').alias('latest_year'),\n",
    "    F.last('annual_aov').alias('annual_aov'),\n",
    "    F.last('total_transactions').alias('total_transactions'),\n",
    "    F.last('avg_fraud_probability_merchant').alias('avg_fraud_probability_merchant'),\n",
    "    F.last('avg_fraud_probability_consumer').alias('avg_fraud_probability_consumer'),\n",
    "    F.last('previous_aov').alias('previous_aov'),\n",
    "    F.first('merchant_name').alias('merchant_name'),\n",
    "    F.first('merchant_category').alias('merchant_category'),\n",
    "    F.last('aov_growth').alias('aov_growth')\n",
    ")\n",
    "\n",
    "future_data = future_data.join(latest_data, on='merchant_abn', how='left')\n",
    "\n",
    "future_data = rf_model.transform(future_data)\n",
    "\n",
    "future_data.select('merchant_abn', 'order_year', 'prediction').show(10)"
   ]
  },
  {
   "cell_type": "code",
   "execution_count": 10,
   "metadata": {},
   "outputs": [],
   "source": [
    "future_predictions = future_data.withColumnRenamed('prediction', 'projected_annual_aov')\n",
    "future_predictions = future_predictions.orderBy(F.col('projected_annual_aov').desc())"
   ]
  },
  {
   "cell_type": "code",
   "execution_count": 11,
   "metadata": {},
   "outputs": [],
   "source": [
    "future_predictions = future_predictions.select('merchant_abn', 'merchant_name','merchant_category', 'order_year', 'total_transactions',\n",
    "                                               'avg_fraud_probability_merchant', 'avg_fraud_probability_consumer', \n",
    "                                               'projected_annual_aov', 'aov_growth')"
   ]
  },
  {
   "cell_type": "code",
   "execution_count": 12,
   "metadata": {},
   "outputs": [
    {
     "name": "stderr",
     "output_type": "stream",
     "text": [
      "                                                                                \r"
     ]
    },
    {
     "name": "stdout",
     "output_type": "stream",
     "text": [
      "+------------+----------------------------+------------------------------------------------------+----------+------------------+------------------------------+------------------------------+--------------------+-------------------+\n",
      "|merchant_abn|merchant_name               |merchant_category                                     |order_year|total_transactions|avg_fraud_probability_merchant|avg_fraud_probability_consumer|projected_annual_aov|aov_growth         |\n",
      "+------------+----------------------------+------------------------------------------------------+----------+------------------+------------------------------+------------------------------+--------------------+-------------------+\n",
      "|87898093521 |Donec Felis Orci Corporation|computers, computer peripheral equipment, and software|2023      |6                 |31.477699665709896            |14.00195523370359             |619.7345978210113   |0.39139435228418973|\n",
      "|65453072511 |Vehicula Aliquet LLC        |computers, computer peripheral equipment, and software|2023      |5                 |29.46709666461279             |12.476170963468572            |605.8739807168172   |0.3106864000993081 |\n",
      "|87122475882 |Lectus Sit Incorporated     |computers, computer peripheral equipment, and software|2023      |17                |31.45103509301157             |12.324130353565751            |595.4567889255605   |0.1441876662387565 |\n",
      "|34048570533 |Interdum Libero Dui Company |computers, computer peripheral equipment, and software|2023      |6                 |29.465891646469444            |13.515313992778088            |573.3801440709956   |0.07244031919279882|\n",
      "|33806831488 |Quis Massa Limited          |computers, computer peripheral equipment, and software|2023      |5                 |29.449938370080748            |10.856807928012868            |563.8377131971077   |0.2604497865301245 |\n",
      "|95682671933 |Arcu Vestibulum Ut Inc.     |computers, computer peripheral equipment, and software|2023      |133               |31.262204571856916            |13.58845911329691             |554.710285241842    |0.19641367935386733|\n",
      "|67988680834 |Dolor Vitae Foundation      |computers, computer peripheral equipment, and software|2023      |41                |29.455840115078477            |11.832371003410088            |548.5941336020562   |0.08627994835207478|\n",
      "|52379134298 |Eu Foundation               |computers, computer peripheral equipment, and software|2023      |5                 |29.527388672768645            |11.808422974784431            |540.8446695541382   |0.13130264100842576|\n",
      "|74309678848 |Integer Vitae Nibh LLP      |computers, computer peripheral equipment, and software|2023      |56                |29.424337786748204            |12.049794939607773            |535.9822210890703   |0.06545620643256438|\n",
      "|32946666313 |Ligula Donec LLC            |computers, computer peripheral equipment, and software|2023      |410               |29.47077087981169             |13.176792604637003            |529.8563531536131   |0.06860010889453028|\n",
      "+------------+----------------------------+------------------------------------------------------+----------+------------------+------------------------------+------------------------------+--------------------+-------------------+\n",
      "only showing top 10 rows\n",
      "\n"
     ]
    }
   ],
   "source": [
    "future_predictions.show(truncate=False, n=10)"
   ]
  },
  {
   "cell_type": "markdown",
   "metadata": {},
   "source": [
    "## Export Ranking and Relevant Columns"
   ]
  },
  {
   "cell_type": "code",
   "execution_count": 13,
   "metadata": {},
   "outputs": [],
   "source": [
    "future_predictions = future_predictions.select('merchant_abn', 'merchant_name', 'merchant_category', 'order_year', 'projected_annual_aov')\n",
    "future_predictions = future_predictions.limit(10)\n",
    "window = Window.orderBy(F.desc(\"projected_annual_aov\"))\n",
    "computer_rankings = future_predictions.withColumn(\"computer_rank\", F.row_number().over(window))"
   ]
  },
  {
   "cell_type": "code",
   "execution_count": 14,
   "metadata": {},
   "outputs": [
    {
     "name": "stderr",
     "output_type": "stream",
     "text": [
      "24/10/01 14:53:55 WARN WindowExec: No Partition Defined for Window operation! Moving all data to a single partition, this can cause serious performance degradation.\n",
      "24/10/01 14:53:55 WARN WindowExec: No Partition Defined for Window operation! Moving all data to a single partition, this can cause serious performance degradation.\n",
      "24/10/01 14:53:55 WARN WindowExec: No Partition Defined for Window operation! Moving all data to a single partition, this can cause serious performance degradation.\n",
      "24/10/01 14:53:56 WARN WindowExec: No Partition Defined for Window operation! Moving all data to a single partition, this can cause serious performance degradation.\n",
      "24/10/01 14:53:56 WARN WindowExec: No Partition Defined for Window operation! Moving all data to a single partition, this can cause serious performance degradation.\n",
      "24/10/01 14:53:56 WARN WindowExec: No Partition Defined for Window operation! Moving all data to a single partition, this can cause serious performance degradation.\n",
      "24/10/01 14:53:56 WARN WindowExec: No Partition Defined for Window operation! Moving all data to a single partition, this can cause serious performance degradation.\n",
      "24/10/01 14:53:56 WARN WindowExec: No Partition Defined for Window operation! Moving all data to a single partition, this can cause serious performance degradation.\n",
      "24/10/01 14:53:56 WARN WindowExec: No Partition Defined for Window operation! Moving all data to a single partition, this can cause serious performance degradation.\n",
      "24/10/01 14:53:57 WARN WindowExec: No Partition Defined for Window operation! Moving all data to a single partition, this can cause serious performance degradation.\n",
      "24/10/01 14:53:57 WARN WindowExec: No Partition Defined for Window operation! Moving all data to a single partition, this can cause serious performance degradation.\n",
      "24/10/01 14:53:57 WARN WindowExec: No Partition Defined for Window operation! Moving all data to a single partition, this can cause serious performance degradation.\n",
      "24/10/01 14:53:57 WARN WindowExec: No Partition Defined for Window operation! Moving all data to a single partition, this can cause serious performance degradation.\n",
      "24/10/01 14:53:57 WARN WindowExec: No Partition Defined for Window operation! Moving all data to a single partition, this can cause serious performance degradation.\n",
      "24/10/01 14:53:57 WARN WindowExec: No Partition Defined for Window operation! Moving all data to a single partition, this can cause serious performance degradation.\n",
      "24/10/01 14:53:57 WARN WindowExec: No Partition Defined for Window operation! Moving all data to a single partition, this can cause serious performance degradation.\n",
      "24/10/01 14:53:57 WARN WindowExec: No Partition Defined for Window operation! Moving all data to a single partition, this can cause serious performance degradation.\n"
     ]
    }
   ],
   "source": [
    "computer_rankings.write.parquet('../data/curated/top_10_computers')"
   ]
  },
  {
   "cell_type": "markdown",
   "metadata": {},
   "source": [
    "## Model Evaluation"
   ]
  },
  {
   "cell_type": "code",
   "execution_count": 15,
   "metadata": {},
   "outputs": [],
   "source": [
    "rf_stage = rf_model.stages[-1] \n",
    "importances = rf_stage.featureImportances\n",
    "importance_values = importances.toArray()\n",
    "feature_importance_df = pd.DataFrame({\n",
    "    'Feature': feature_columns,\n",
    "    'Importance': importance_values\n",
    "})\n",
    "\n",
    "feature_importance_df = feature_importance_df.sort_values(by='Importance', ascending=False)\n"
   ]
  },
  {
   "cell_type": "code",
   "execution_count": 16,
   "metadata": {},
   "outputs": [
    {
     "data": {
      "image/png": "[encoded data removed]",
      "text/plain": [
       "<Figure size 1000x600 with 1 Axes>"
      ]
     },
     "metadata": {},
     "output_type": "display_data"
    }
   ],
   "source": [
    "plt.figure(figsize=(10, 6))\n",
    "plt.barh(feature_importance_df['Feature'], feature_importance_df['Importance'], color='royalblue')\n",
    "plt.xlabel('Feature Importance')\n",
    "plt.title('Computer Segment Random Forest Feature Importances')\n",
    "plt.gca().invert_yaxis()  # To have the highest importance on top\n",
    "plt.show()"
   ]
  }
 ],
 "metadata": {
  "kernelspec": {
   "display_name": "base",
   "language": "python",
   "name": "python3"
  },
  "language_info": {
   "codemirror_mode": {
    "name": "ipython",
    "version": 3
   },
   "file_extension": ".py",
   "mimetype": "text/x-python",
   "name": "python",
   "nbconvert_exporter": "python",
   "pygments_lexer": "ipython3",
   "version": "3.11.5"
  }
 },
 "nbformat": 4,
 "nbformat_minor": 2
}
